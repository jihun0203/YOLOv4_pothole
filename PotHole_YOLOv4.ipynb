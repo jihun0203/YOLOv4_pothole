{
  "nbformat": 4,
  "nbformat_minor": 0,
  "metadata": {
    "colab": {
      "name": "PotHole YOLOv4.ipynb",
      "provenance": [],
      "collapsed_sections": [],
      "include_colab_link": true
    },
    "kernelspec": {
      "name": "python3",
      "display_name": "Python 3"
    },
    "language_info": {
      "name": "python"
    },
    "accelerator": "GPU"
  },
  "cells": [
    {
      "cell_type": "markdown",
      "metadata": {
        "id": "view-in-github",
        "colab_type": "text"
      },
      "source": [
        "<a href=\"https://colab.research.google.com/github/jihun0203/YOLOv4_pothole/blob/main/PotHole_YOLOv4.ipynb\" target=\"_parent\"><img src=\"https://colab.research.google.com/assets/colab-badge.svg\" alt=\"Open In Colab\"/></a>"
      ]
    },
    {
      "cell_type": "markdown",
      "source": [
        "# 구글 드라이브 연결\n",
        "- 구글 드라이브에 PotHoleYOLO 폴더로 이동"
      ],
      "metadata": {
        "id": "7sGZUtLAa5WL"
      }
    },
    {
      "cell_type": "code",
      "source": [
        "path = '/content/drive/MyDrive/PotHoleYOLO'"
      ],
      "metadata": {
        "id": "546ev2e4mdOC"
      },
      "execution_count": 1,
      "outputs": []
    },
    {
      "cell_type": "code",
      "execution_count": 12,
      "metadata": {
        "colab": {
          "base_uri": "https://localhost:8080/"
        },
        "id": "A4iaZYEAa4YI",
        "outputId": "85e7e167-6b94-48e0-e034-b3396d075cd9"
      },
      "outputs": [
        {
          "output_type": "stream",
          "name": "stdout",
          "text": [
            "Mounted at /content/drive\n"
          ]
        }
      ],
      "source": [
        "from google.colab import drive\n",
        "drive.mount('/content/drive')"
      ]
    },
    {
      "cell_type": "code",
      "source": [
        "cd /content/drive/MyDrive/PotHoleYOLO"
      ],
      "metadata": {
        "colab": {
          "base_uri": "https://localhost:8080/"
        },
        "id": "FJUI4d-Ka_NE",
        "outputId": "4fa2e2d9-739b-46ff-94ed-4fb121197aa8"
      },
      "execution_count": 13,
      "outputs": [
        {
          "output_type": "stream",
          "name": "stdout",
          "text": [
            "/content/drive/MyDrive/PotHoleYOLO\n"
          ]
        }
      ]
    },
    {
      "cell_type": "code",
      "source": [
        "ls"
      ],
      "metadata": {
        "colab": {
          "base_uri": "https://localhost:8080/"
        },
        "id": "nrXL6e1J4bth",
        "outputId": "340b916a-9f73-441c-c6da-13c5ee6b6e11"
      },
      "execution_count": 14,
      "outputs": [
        {
          "output_type": "stream",
          "name": "stdout",
          "text": [
            " \u001b[0m\u001b[01;34mdarknet\u001b[0m/          \u001b[01;34mtest\u001b[0m/      \u001b[01;34m'training(tiny)'\u001b[0m/\n",
            " _darknet.labels   \u001b[01;34mtraining\u001b[0m/   \u001b[01;34mtraining_YOLOv4\u001b[0m/\n"
          ]
        }
      ]
    },
    {
      "cell_type": "markdown",
      "source": [
        "# 환경 설정 (새 프로젝트 실행 시에만)\n",
        "- 구글 드라이브에 darknet clone"
      ],
      "metadata": {
        "id": "sT_-21g-b3wJ"
      }
    },
    {
      "cell_type": "code",
      "source": [
        "!git clone https://github.com/AlexeyAB/darknet"
      ],
      "metadata": {
        "colab": {
          "base_uri": "https://localhost:8080/"
        },
        "id": "rsmWJgQFb6tB",
        "outputId": "3570ea57-9814-4fd7-8be2-124245f39966"
      },
      "execution_count": null,
      "outputs": [
        {
          "output_type": "stream",
          "name": "stdout",
          "text": [
            "Cloning into 'darknet'...\n",
            "remote: Enumerating objects: 15412, done.\u001b[K\n",
            "remote: Total 15412 (delta 0), reused 0 (delta 0), pack-reused 15412\u001b[K\n",
            "Receiving objects: 100% (15412/15412), 14.05 MiB | 6.41 MiB/s, done.\n",
            "Resolving deltas: 100% (10354/10354), done.\n",
            "Checking out files: 100% (2050/2050), done.\n"
          ]
        }
      ]
    },
    {
      "cell_type": "code",
      "source": [
        "cd darknet/"
      ],
      "metadata": {
        "colab": {
          "base_uri": "https://localhost:8080/"
        },
        "id": "yyjngUwOiBtL",
        "outputId": "2fd1d02f-34cc-4b3b-83d8-5110d8a33951"
      },
      "execution_count": null,
      "outputs": [
        {
          "output_type": "stream",
          "name": "stdout",
          "text": [
            "/content/drive/MyDrive/PotHoleYOLO/darknet\n"
          ]
        }
      ]
    },
    {
      "cell_type": "markdown",
      "source": [
        "- darknet 폴더에 custom 파일 이외의 기존 파일 삭제 (cfg, data ...)"
      ],
      "metadata": {
        "id": "XgI3ktUrEuqR"
      }
    },
    {
      "cell_type": "code",
      "source": [
        "%cd data/\n",
        "!find -maxdepth 1 -type f -exec rm -rf {} \\;\n",
        "%cd ..\n",
        "%rm -rf cfg/\n",
        "%mkdir cfg"
      ],
      "metadata": {
        "id": "d8_c_5eWicat",
        "colab": {
          "base_uri": "https://localhost:8080/"
        },
        "outputId": "406d5166-8dac-40ca-c0ae-bd2f537ec8d9"
      },
      "execution_count": null,
      "outputs": [
        {
          "output_type": "stream",
          "name": "stdout",
          "text": [
            "/content/drive/MyDrive/PotHoleYOLO/darknet/data\n",
            "/content/drive/MyDrive/PotHoleYOLO/darknet\n"
          ]
        }
      ]
    },
    {
      "cell_type": "markdown",
      "source": [
        "## YOLO 학습 환경 설정\n",
        "- openCV, GPU, CUDNN, LIBSO 활성화"
      ],
      "metadata": {
        "id": "jKeK69kbEzg6"
      }
    },
    {
      "cell_type": "code",
      "source": [
        "!sed -i 's/OPENCV=0/OPENCV=1/' Makefile\n",
        "!sed -i 's/GPU=0/GPU=1/' Makefile\n",
        "!sed -i 's/CUDNN=0/CUDNN=1/' Makefile\n",
        "!sed -i 's/CUDNN_HALF=0/CUDNN_HALF=1/' Makefile\n",
        "!sed -i 's/LIBSO=0/LIBSO=1/' Makefile"
      ],
      "metadata": {
        "id": "5OxASrD_iXlx"
      },
      "execution_count": null,
      "outputs": []
    },
    {
      "cell_type": "markdown",
      "source": [
        "- darknet.py 파일 수정하고 make (그래프 생성 epoch 주기 및 backup 주기) \n"
      ],
      "metadata": {
        "id": "qFtNmsL9oJAY"
      }
    },
    {
      "cell_type": "code",
      "source": [
        "!make"
      ],
      "metadata": {
        "id": "6Dko0u4yiYpB"
      },
      "execution_count": null,
      "outputs": []
    },
    {
      "cell_type": "markdown",
      "source": [
        "## PotHole Data(Google Drive에서)\n",
        "### Data 생성\n",
        "- pothole.data : 클래스 갯수(1개), 클래스 이름 파일 경로 (pothole.names), 백업 경로, train 데이터 목록, test 데이터 목록  \n",
        "- pothole.names : 클래스 이름 (pothole)  \n",
        "- pothole 폴더: 사진 이미지 + 같은 이름의 라벨링 txt 파일  \n",
        "\n",
        "### Data 경로\n",
        "1. darknet/data 폴더에 생성한 위에서 pothole data 넣기\n",
        "2. darknet/cfg 폴더에 수정한 cfg 파일 넣기\n",
        "3. darknet 폴더에 process.py 파일 넣기\n",
        "4. darknet 폴더에 pretrain 가중치 넣기 (yolov4.conv.137)\n",
        "5. PotHoleYOLO 폴더 안에 백업할 training 폴더 생성\n"
      ],
      "metadata": {
        "id": "5LLdT-V8oYc0"
      }
    },
    {
      "cell_type": "code",
      "source": [
        "# process.py 실행 - 백업 경로 설정 및 train(90%)/test(10%) 데이터 랜덤 목록 생성\n",
        "!python process.py"
      ],
      "metadata": {
        "colab": {
          "base_uri": "https://localhost:8080/"
        },
        "id": "aWKy1RKOG0_4",
        "outputId": "e38ea6e0-690d-44a5-9233-b80b7a0ed07f"
      },
      "execution_count": null,
      "outputs": [
        {
          "output_type": "stream",
          "name": "stdout",
          "text": [
            "/content/drive/MyDrive/PotHoleYOLO/darknet\n"
          ]
        }
      ]
    },
    {
      "cell_type": "markdown",
      "source": [
        "# YOLO 학습"
      ],
      "metadata": {
        "id": "E8Dc4pE9rU5V"
      }
    },
    {
      "cell_type": "markdown",
      "source": [
        "## Training\n",
        "### 처음 실행 시:"
      ],
      "metadata": {
        "id": "cLqsJa4mrgLz"
      }
    },
    {
      "cell_type": "code",
      "source": [
        "!./darknet detector train data/pothole.data cfg/yolov4.cfg yolov4.conv.137 -dont_show -map"
      ],
      "metadata": {
        "id": "bKSKASIJ1FKL"
      },
      "execution_count": null,
      "outputs": []
    },
    {
      "cell_type": "markdown",
      "source": [
        "### 중간에 런타임 끊겼을 때:"
      ],
      "metadata": {
        "id": "7bq_LybC1IFp"
      }
    },
    {
      "cell_type": "code",
      "source": [
        "# 1) Google Drive 재연결\n",
        "from google.colab import drive\n",
        "drive.mount('/content/drive')"
      ],
      "metadata": {
        "id": "v_Vq2vp2PHf8"
      },
      "execution_count": null,
      "outputs": []
    },
    {
      "cell_type": "code",
      "source": [
        "cd /content/drive/MyDrive/PotHoleYOLO/darknet"
      ],
      "metadata": {
        "colab": {
          "base_uri": "https://localhost:8080/"
        },
        "id": "GlW8X8j5PLiN",
        "outputId": "a90dc28b-5d01-4b4a-8bef-47528cef5a08"
      },
      "execution_count": null,
      "outputs": [
        {
          "output_type": "stream",
          "name": "stdout",
          "text": [
            "/content/drive/.shortcut-targets-by-id/1uzw-CCHADpwI4APn81ygaQQaqLW4LYhD/PotHoleYOLO/darknet\n"
          ]
        }
      ]
    },
    {
      "cell_type": "code",
      "source": [
        "# 권한 부여\n",
        "!chmod +x ./darknet"
      ],
      "metadata": {
        "id": "oRjTmhxLBJND"
      },
      "execution_count": null,
      "outputs": []
    },
    {
      "cell_type": "markdown",
      "source": [
        "* 백업된 마지막 weights 가져와서 다시 학습 (이전의 chart.png는 지워지니 꼭 미리 저장해두고 다시 돌리기!) "
      ],
      "metadata": {
        "id": "gMv59_otrxzH"
      }
    },
    {
      "cell_type": "code",
      "source": [
        "!./darknet detector train data/pothole.data cfg/yolov4.cfg /content/drive/MyDrive/PotHoleYOLO/training/yolov4_last.weights -dont_show -map"
      ],
      "metadata": {
        "id": "cldeKo661HYB"
      },
      "execution_count": null,
      "outputs": []
    },
    {
      "cell_type": "markdown",
      "source": [
        "## Test\n",
        "- cfg 파일의 batch 값 1로 변경\n",
        "- cfg 파일의 subdivisions 값 1로 변경"
      ],
      "metadata": {
        "id": "E-oynSPj8JXa"
      }
    },
    {
      "cell_type": "code",
      "source": [
        "%cd cfg\n",
        "!sed -i 's/batch=64/batch=1/' yolov4.cfg\n",
        "!sed -i 's/subdivisions=16/subdivisions=1/' yolov4.cfg\n",
        "%cd .."
      ],
      "metadata": {
        "id": "cDaf0xoH1Qv5",
        "colab": {
          "base_uri": "https://localhost:8080/"
        },
        "outputId": "9695f16b-2a69-4da6-c0a4-801917598d15"
      },
      "execution_count": null,
      "outputs": [
        {
          "output_type": "stream",
          "name": "stdout",
          "text": [
            "/content/drive/.shortcut-targets-by-id/1uzw-CCHADpwI4APn81ygaQQaqLW4LYhD/PotHoleYOLO/darknet/cfg\n",
            "/content/drive/.shortcut-targets-by-id/1uzw-CCHADpwI4APn81ygaQQaqLW4LYhD/PotHoleYOLO/darknet\n"
          ]
        }
      ]
    },
    {
      "cell_type": "code",
      "source": [
        "# 권한 부여\n",
        "!chmod +x ./darknet"
      ],
      "metadata": {
        "id": "mcmAblU88rhM"
      },
      "execution_count": null,
      "outputs": []
    },
    {
      "cell_type": "markdown",
      "source": [
        "- Best 가중치 가져와서 학습 결과 보여주기"
      ],
      "metadata": {
        "id": "XLDMLcyfsowy"
      }
    },
    {
      "cell_type": "code",
      "source": [
        "!./darknet detector map data/pothole.data cfg/yolov4.cfg /content/drive/MyDrive/PotHoleYOLO/training_YOLOv4/yolov4_best.weights"
      ],
      "metadata": {
        "id": "QZNFMS701Orr",
        "colab": {
          "base_uri": "https://localhost:8080/"
        },
        "outputId": "36f97d82-0b52-4e59-9c1a-60d07efea2b5"
      },
      "execution_count": null,
      "outputs": [
        {
          "output_type": "stream",
          "name": "stdout",
          "text": [
            " CUDA-version: 11010 (11020), cuDNN: 7.6.5, CUDNN_HALF=1, GPU count: 1  \n",
            " CUDNN_HALF=1 \n",
            " OpenCV version: 3.2.0\n",
            " 0 : compute_capability = 370, cudnn_half = 0, GPU: Tesla K80 \n",
            "net.optimized_memory = 0 \n",
            "mini_batch = 1, batch = 32, time_steps = 1, train = 0 \n",
            "   layer   filters  size/strd(dil)      input                output\n",
            "   0 Create CUDA-stream - 0 \n",
            " Create cudnn-handle 0 \n",
            "conv     32       3 x 3/ 1    512 x 512 x   3 ->  512 x 512 x  32 0.453 BF\n",
            "   1 conv     64       3 x 3/ 2    512 x 512 x  32 ->  256 x 256 x  64 2.416 BF\n",
            "   2 conv     64       1 x 1/ 1    256 x 256 x  64 ->  256 x 256 x  64 0.537 BF\n",
            "   3 route  1 \t\t                           ->  256 x 256 x  64 \n",
            "   4 conv     64       1 x 1/ 1    256 x 256 x  64 ->  256 x 256 x  64 0.537 BF\n",
            "   5 conv     32       1 x 1/ 1    256 x 256 x  64 ->  256 x 256 x  32 0.268 BF\n",
            "   6 conv     64       3 x 3/ 1    256 x 256 x  32 ->  256 x 256 x  64 2.416 BF\n",
            "   7 Shortcut Layer: 4,  wt = 0, wn = 0, outputs: 256 x 256 x  64 0.004 BF\n",
            "   8 conv     64       1 x 1/ 1    256 x 256 x  64 ->  256 x 256 x  64 0.537 BF\n",
            "   9 route  8 2 \t                           ->  256 x 256 x 128 \n",
            "  10 conv     64       1 x 1/ 1    256 x 256 x 128 ->  256 x 256 x  64 1.074 BF\n",
            "  11 conv    128       3 x 3/ 2    256 x 256 x  64 ->  128 x 128 x 128 2.416 BF\n",
            "  12 conv     64       1 x 1/ 1    128 x 128 x 128 ->  128 x 128 x  64 0.268 BF\n",
            "  13 route  11 \t\t                           ->  128 x 128 x 128 \n",
            "  14 conv     64       1 x 1/ 1    128 x 128 x 128 ->  128 x 128 x  64 0.268 BF\n",
            "  15 conv     64       1 x 1/ 1    128 x 128 x  64 ->  128 x 128 x  64 0.134 BF\n",
            "  16 conv     64       3 x 3/ 1    128 x 128 x  64 ->  128 x 128 x  64 1.208 BF\n",
            "  17 Shortcut Layer: 14,  wt = 0, wn = 0, outputs: 128 x 128 x  64 0.001 BF\n",
            "  18 conv     64       1 x 1/ 1    128 x 128 x  64 ->  128 x 128 x  64 0.134 BF\n",
            "  19 conv     64       3 x 3/ 1    128 x 128 x  64 ->  128 x 128 x  64 1.208 BF\n",
            "  20 Shortcut Layer: 17,  wt = 0, wn = 0, outputs: 128 x 128 x  64 0.001 BF\n",
            "  21 conv     64       1 x 1/ 1    128 x 128 x  64 ->  128 x 128 x  64 0.134 BF\n",
            "  22 route  21 12 \t                           ->  128 x 128 x 128 \n",
            "  23 conv    128       1 x 1/ 1    128 x 128 x 128 ->  128 x 128 x 128 0.537 BF\n",
            "  24 conv    256       3 x 3/ 2    128 x 128 x 128 ->   64 x  64 x 256 2.416 BF\n",
            "  25 conv    128       1 x 1/ 1     64 x  64 x 256 ->   64 x  64 x 128 0.268 BF\n",
            "  26 route  24 \t\t                           ->   64 x  64 x 256 \n",
            "  27 conv    128       1 x 1/ 1     64 x  64 x 256 ->   64 x  64 x 128 0.268 BF\n",
            "  28 conv    128       1 x 1/ 1     64 x  64 x 128 ->   64 x  64 x 128 0.134 BF\n",
            "  29 conv    128       3 x 3/ 1     64 x  64 x 128 ->   64 x  64 x 128 1.208 BF\n",
            "  30 Shortcut Layer: 27,  wt = 0, wn = 0, outputs:  64 x  64 x 128 0.001 BF\n",
            "  31 conv    128       1 x 1/ 1     64 x  64 x 128 ->   64 x  64 x 128 0.134 BF\n",
            "  32 conv    128       3 x 3/ 1     64 x  64 x 128 ->   64 x  64 x 128 1.208 BF\n",
            "  33 Shortcut Layer: 30,  wt = 0, wn = 0, outputs:  64 x  64 x 128 0.001 BF\n",
            "  34 conv    128       1 x 1/ 1     64 x  64 x 128 ->   64 x  64 x 128 0.134 BF\n",
            "  35 conv    128       3 x 3/ 1     64 x  64 x 128 ->   64 x  64 x 128 1.208 BF\n",
            "  36 Shortcut Layer: 33,  wt = 0, wn = 0, outputs:  64 x  64 x 128 0.001 BF\n",
            "  37 conv    128       1 x 1/ 1     64 x  64 x 128 ->   64 x  64 x 128 0.134 BF\n",
            "  38 conv    128       3 x 3/ 1     64 x  64 x 128 ->   64 x  64 x 128 1.208 BF\n",
            "  39 Shortcut Layer: 36,  wt = 0, wn = 0, outputs:  64 x  64 x 128 0.001 BF\n",
            "  40 conv    128       1 x 1/ 1     64 x  64 x 128 ->   64 x  64 x 128 0.134 BF\n",
            "  41 conv    128       3 x 3/ 1     64 x  64 x 128 ->   64 x  64 x 128 1.208 BF\n",
            "  42 Shortcut Layer: 39,  wt = 0, wn = 0, outputs:  64 x  64 x 128 0.001 BF\n",
            "  43 conv    128       1 x 1/ 1     64 x  64 x 128 ->   64 x  64 x 128 0.134 BF\n",
            "  44 conv    128       3 x 3/ 1     64 x  64 x 128 ->   64 x  64 x 128 1.208 BF\n",
            "  45 Shortcut Layer: 42,  wt = 0, wn = 0, outputs:  64 x  64 x 128 0.001 BF\n",
            "  46 conv    128       1 x 1/ 1     64 x  64 x 128 ->   64 x  64 x 128 0.134 BF\n",
            "  47 conv    128       3 x 3/ 1     64 x  64 x 128 ->   64 x  64 x 128 1.208 BF\n",
            "  48 Shortcut Layer: 45,  wt = 0, wn = 0, outputs:  64 x  64 x 128 0.001 BF\n",
            "  49 conv    128       1 x 1/ 1     64 x  64 x 128 ->   64 x  64 x 128 0.134 BF\n",
            "  50 conv    128       3 x 3/ 1     64 x  64 x 128 ->   64 x  64 x 128 1.208 BF\n",
            "  51 Shortcut Layer: 48,  wt = 0, wn = 0, outputs:  64 x  64 x 128 0.001 BF\n",
            "  52 conv    128       1 x 1/ 1     64 x  64 x 128 ->   64 x  64 x 128 0.134 BF\n",
            "  53 route  52 25 \t                           ->   64 x  64 x 256 \n",
            "  54 conv    256       1 x 1/ 1     64 x  64 x 256 ->   64 x  64 x 256 0.537 BF\n",
            "  55 conv    512       3 x 3/ 2     64 x  64 x 256 ->   32 x  32 x 512 2.416 BF\n",
            "  56 conv    256       1 x 1/ 1     32 x  32 x 512 ->   32 x  32 x 256 0.268 BF\n",
            "  57 route  55 \t\t                           ->   32 x  32 x 512 \n",
            "  58 conv    256       1 x 1/ 1     32 x  32 x 512 ->   32 x  32 x 256 0.268 BF\n",
            "  59 conv    256       1 x 1/ 1     32 x  32 x 256 ->   32 x  32 x 256 0.134 BF\n",
            "  60 conv    256       3 x 3/ 1     32 x  32 x 256 ->   32 x  32 x 256 1.208 BF\n",
            "  61 Shortcut Layer: 58,  wt = 0, wn = 0, outputs:  32 x  32 x 256 0.000 BF\n",
            "  62 conv    256       1 x 1/ 1     32 x  32 x 256 ->   32 x  32 x 256 0.134 BF\n",
            "  63 conv    256       3 x 3/ 1     32 x  32 x 256 ->   32 x  32 x 256 1.208 BF\n",
            "  64 Shortcut Layer: 61,  wt = 0, wn = 0, outputs:  32 x  32 x 256 0.000 BF\n",
            "  65 conv    256       1 x 1/ 1     32 x  32 x 256 ->   32 x  32 x 256 0.134 BF\n",
            "  66 conv    256       3 x 3/ 1     32 x  32 x 256 ->   32 x  32 x 256 1.208 BF\n",
            "  67 Shortcut Layer: 64,  wt = 0, wn = 0, outputs:  32 x  32 x 256 0.000 BF\n",
            "  68 conv    256       1 x 1/ 1     32 x  32 x 256 ->   32 x  32 x 256 0.134 BF\n",
            "  69 conv    256       3 x 3/ 1     32 x  32 x 256 ->   32 x  32 x 256 1.208 BF\n",
            "  70 Shortcut Layer: 67,  wt = 0, wn = 0, outputs:  32 x  32 x 256 0.000 BF\n",
            "  71 conv    256       1 x 1/ 1     32 x  32 x 256 ->   32 x  32 x 256 0.134 BF\n",
            "  72 conv    256       3 x 3/ 1     32 x  32 x 256 ->   32 x  32 x 256 1.208 BF\n",
            "  73 Shortcut Layer: 70,  wt = 0, wn = 0, outputs:  32 x  32 x 256 0.000 BF\n",
            "  74 conv    256       1 x 1/ 1     32 x  32 x 256 ->   32 x  32 x 256 0.134 BF\n",
            "  75 conv    256       3 x 3/ 1     32 x  32 x 256 ->   32 x  32 x 256 1.208 BF\n",
            "  76 Shortcut Layer: 73,  wt = 0, wn = 0, outputs:  32 x  32 x 256 0.000 BF\n",
            "  77 conv    256       1 x 1/ 1     32 x  32 x 256 ->   32 x  32 x 256 0.134 BF\n",
            "  78 conv    256       3 x 3/ 1     32 x  32 x 256 ->   32 x  32 x 256 1.208 BF\n",
            "  79 Shortcut Layer: 76,  wt = 0, wn = 0, outputs:  32 x  32 x 256 0.000 BF\n",
            "  80 conv    256       1 x 1/ 1     32 x  32 x 256 ->   32 x  32 x 256 0.134 BF\n",
            "  81 conv    256       3 x 3/ 1     32 x  32 x 256 ->   32 x  32 x 256 1.208 BF\n",
            "  82 Shortcut Layer: 79,  wt = 0, wn = 0, outputs:  32 x  32 x 256 0.000 BF\n",
            "  83 conv    256       1 x 1/ 1     32 x  32 x 256 ->   32 x  32 x 256 0.134 BF\n",
            "  84 route  83 56 \t                           ->   32 x  32 x 512 \n",
            "  85 conv    512       1 x 1/ 1     32 x  32 x 512 ->   32 x  32 x 512 0.537 BF\n",
            "  86 conv   1024       3 x 3/ 2     32 x  32 x 512 ->   16 x  16 x1024 2.416 BF\n",
            "  87 conv    512       1 x 1/ 1     16 x  16 x1024 ->   16 x  16 x 512 0.268 BF\n",
            "  88 route  86 \t\t                           ->   16 x  16 x1024 \n",
            "  89 conv    512       1 x 1/ 1     16 x  16 x1024 ->   16 x  16 x 512 0.268 BF\n",
            "  90 conv    512       1 x 1/ 1     16 x  16 x 512 ->   16 x  16 x 512 0.134 BF\n",
            "  91 conv    512       3 x 3/ 1     16 x  16 x 512 ->   16 x  16 x 512 1.208 BF\n",
            "  92 Shortcut Layer: 89,  wt = 0, wn = 0, outputs:  16 x  16 x 512 0.000 BF\n",
            "  93 conv    512       1 x 1/ 1     16 x  16 x 512 ->   16 x  16 x 512 0.134 BF\n",
            "  94 conv    512       3 x 3/ 1     16 x  16 x 512 ->   16 x  16 x 512 1.208 BF\n",
            "  95 Shortcut Layer: 92,  wt = 0, wn = 0, outputs:  16 x  16 x 512 0.000 BF\n",
            "  96 conv    512       1 x 1/ 1     16 x  16 x 512 ->   16 x  16 x 512 0.134 BF\n",
            "  97 conv    512       3 x 3/ 1     16 x  16 x 512 ->   16 x  16 x 512 1.208 BF\n",
            "  98 Shortcut Layer: 95,  wt = 0, wn = 0, outputs:  16 x  16 x 512 0.000 BF\n",
            "  99 conv    512       1 x 1/ 1     16 x  16 x 512 ->   16 x  16 x 512 0.134 BF\n",
            " 100 conv    512       3 x 3/ 1     16 x  16 x 512 ->   16 x  16 x 512 1.208 BF\n",
            " 101 Shortcut Layer: 98,  wt = 0, wn = 0, outputs:  16 x  16 x 512 0.000 BF\n",
            " 102 conv    512       1 x 1/ 1     16 x  16 x 512 ->   16 x  16 x 512 0.134 BF\n",
            " 103 route  102 87 \t                           ->   16 x  16 x1024 \n",
            " 104 conv   1024       1 x 1/ 1     16 x  16 x1024 ->   16 x  16 x1024 0.537 BF\n",
            " 105 conv    512       1 x 1/ 1     16 x  16 x1024 ->   16 x  16 x 512 0.268 BF\n",
            " 106 conv   1024       3 x 3/ 1     16 x  16 x 512 ->   16 x  16 x1024 2.416 BF\n",
            " 107 conv    512       1 x 1/ 1     16 x  16 x1024 ->   16 x  16 x 512 0.268 BF\n",
            " 108 max                5x 5/ 1     16 x  16 x 512 ->   16 x  16 x 512 0.003 BF\n",
            " 109 route  107 \t\t                           ->   16 x  16 x 512 \n",
            " 110 max                9x 9/ 1     16 x  16 x 512 ->   16 x  16 x 512 0.011 BF\n",
            " 111 route  107 \t\t                           ->   16 x  16 x 512 \n",
            " 112 max               13x13/ 1     16 x  16 x 512 ->   16 x  16 x 512 0.022 BF\n",
            " 113 route  112 110 108 107 \t                   ->   16 x  16 x2048 \n",
            " 114 conv    512       1 x 1/ 1     16 x  16 x2048 ->   16 x  16 x 512 0.537 BF\n",
            " 115 conv   1024       3 x 3/ 1     16 x  16 x 512 ->   16 x  16 x1024 2.416 BF\n",
            " 116 conv    512       1 x 1/ 1     16 x  16 x1024 ->   16 x  16 x 512 0.268 BF\n",
            " 117 conv    256       1 x 1/ 1     16 x  16 x 512 ->   16 x  16 x 256 0.067 BF\n",
            " 118 upsample                 2x    16 x  16 x 256 ->   32 x  32 x 256\n",
            " 119 route  85 \t\t                           ->   32 x  32 x 512 \n",
            " 120 conv    256       1 x 1/ 1     32 x  32 x 512 ->   32 x  32 x 256 0.268 BF\n",
            " 121 route  120 118 \t                           ->   32 x  32 x 512 \n",
            " 122 conv    256       1 x 1/ 1     32 x  32 x 512 ->   32 x  32 x 256 0.268 BF\n",
            " 123 conv    512       3 x 3/ 1     32 x  32 x 256 ->   32 x  32 x 512 2.416 BF\n",
            " 124 conv    256       1 x 1/ 1     32 x  32 x 512 ->   32 x  32 x 256 0.268 BF\n",
            " 125 conv    512       3 x 3/ 1     32 x  32 x 256 ->   32 x  32 x 512 2.416 BF\n",
            " 126 conv    256       1 x 1/ 1     32 x  32 x 512 ->   32 x  32 x 256 0.268 BF\n",
            " 127 conv    128       1 x 1/ 1     32 x  32 x 256 ->   32 x  32 x 128 0.067 BF\n",
            " 128 upsample                 2x    32 x  32 x 128 ->   64 x  64 x 128\n",
            " 129 route  54 \t\t                           ->   64 x  64 x 256 \n",
            " 130 conv    128       1 x 1/ 1     64 x  64 x 256 ->   64 x  64 x 128 0.268 BF\n",
            " 131 route  130 128 \t                           ->   64 x  64 x 256 \n",
            " 132 conv    128       1 x 1/ 1     64 x  64 x 256 ->   64 x  64 x 128 0.268 BF\n",
            " 133 conv    256       3 x 3/ 1     64 x  64 x 128 ->   64 x  64 x 256 2.416 BF\n",
            " 134 conv    128       1 x 1/ 1     64 x  64 x 256 ->   64 x  64 x 128 0.268 BF\n",
            " 135 conv    256       3 x 3/ 1     64 x  64 x 128 ->   64 x  64 x 256 2.416 BF\n",
            " 136 conv    128       1 x 1/ 1     64 x  64 x 256 ->   64 x  64 x 128 0.268 BF\n",
            " 137 conv    256       3 x 3/ 1     64 x  64 x 128 ->   64 x  64 x 256 2.416 BF\n",
            " 138 conv     18       1 x 1/ 1     64 x  64 x 256 ->   64 x  64 x  18 0.038 BF\n",
            " 139 yolo\n",
            "[yolo] params: iou loss: ciou (4), iou_norm: 0.07, obj_norm: 1.00, cls_norm: 1.00, delta_norm: 1.00, scale_x_y: 1.20\n",
            "nms_kind: greedynms (1), beta = 0.600000 \n",
            " 140 route  136 \t\t                           ->   64 x  64 x 128 \n",
            " 141 conv    256       3 x 3/ 2     64 x  64 x 128 ->   32 x  32 x 256 0.604 BF\n",
            " 142 route  141 126 \t                           ->   32 x  32 x 512 \n",
            " 143 conv    256       1 x 1/ 1     32 x  32 x 512 ->   32 x  32 x 256 0.268 BF\n",
            " 144 conv    512       3 x 3/ 1     32 x  32 x 256 ->   32 x  32 x 512 2.416 BF\n",
            " 145 conv    256       1 x 1/ 1     32 x  32 x 512 ->   32 x  32 x 256 0.268 BF\n",
            " 146 conv    512       3 x 3/ 1     32 x  32 x 256 ->   32 x  32 x 512 2.416 BF\n",
            " 147 conv    256       1 x 1/ 1     32 x  32 x 512 ->   32 x  32 x 256 0.268 BF\n",
            " 148 conv    512       3 x 3/ 1     32 x  32 x 256 ->   32 x  32 x 512 2.416 BF\n",
            " 149 conv     18       1 x 1/ 1     32 x  32 x 512 ->   32 x  32 x  18 0.019 BF\n",
            " 150 yolo\n",
            "[yolo] params: iou loss: ciou (4), iou_norm: 0.07, obj_norm: 1.00, cls_norm: 1.00, delta_norm: 1.00, scale_x_y: 1.10\n",
            "nms_kind: greedynms (1), beta = 0.600000 \n",
            " 151 route  147 \t\t                           ->   32 x  32 x 256 \n",
            " 152 conv    512       3 x 3/ 2     32 x  32 x 256 ->   16 x  16 x 512 0.604 BF\n",
            " 153 route  152 116 \t                           ->   16 x  16 x1024 \n",
            " 154 conv    512       1 x 1/ 1     16 x  16 x1024 ->   16 x  16 x 512 0.268 BF\n",
            " 155 conv   1024       3 x 3/ 1     16 x  16 x 512 ->   16 x  16 x1024 2.416 BF\n",
            " 156 conv    512       1 x 1/ 1     16 x  16 x1024 ->   16 x  16 x 512 0.268 BF\n",
            " 157 conv   1024       3 x 3/ 1     16 x  16 x 512 ->   16 x  16 x1024 2.416 BF\n",
            " 158 conv    512       1 x 1/ 1     16 x  16 x1024 ->   16 x  16 x 512 0.268 BF\n",
            " 159 conv   1024       3 x 3/ 1     16 x  16 x 512 ->   16 x  16 x1024 2.416 BF\n",
            " 160 conv     18       1 x 1/ 1     16 x  16 x1024 ->   16 x  16 x  18 0.009 BF\n",
            " 161 yolo\n",
            "[yolo] params: iou loss: ciou (4), iou_norm: 0.07, obj_norm: 1.00, cls_norm: 1.00, delta_norm: 1.00, scale_x_y: 1.05\n",
            "nms_kind: greedynms (1), beta = 0.600000 \n",
            "Total BFLOPS 90.226 \n",
            "avg_outputs = 741913 \n",
            " Allocate additional workspace_size = 4.72 MB \n",
            "Loading weights from /content/drive/MyDrive/PotHoleYOLO/training_YOLOv4/yolov4_best.weights...\n",
            " seen 64, trained: 112 K-images (1 Kilo-batches_64) \n",
            "Done! Loaded 162 layers from weights-file \n",
            "\n",
            " calculation mAP (mean average precision)...\n",
            " Detection layer: 139 - type = 28 \n",
            " Detection layer: 150 - type = 28 \n",
            " Detection layer: 161 - type = 28 \n",
            "40\n",
            " detections_count = 229, unique_truth_count = 102  \n",
            "class_id = 0, name = pothole, ap = 68.84%   \t (TP = 68, FP = 27) \n",
            "\n",
            " for conf_thresh = 0.25, precision = 0.72, recall = 0.67, F1-score = 0.69 \n",
            " for conf_thresh = 0.25, TP = 68, FP = 27, FN = 34, average IoU = 55.25 % \n",
            "\n",
            " IoU threshold = 50 %, used Area-Under-Curve for each unique Recall \n",
            " mean average precision (mAP@0.50) = 0.688359, or 68.84 % \n",
            "Total Detection Time: 14 Seconds\n",
            "\n",
            "Set -points flag:\n",
            " `-points 101` for MS COCO \n",
            " `-points 11` for PascalVOC 2007 (uncomment `difficult` in voc.data) \n",
            " `-points 0` (AUC) for ImageNet, PascalVOC 2010-2012, your custom dataset\n"
          ]
        }
      ]
    }
  ]
}